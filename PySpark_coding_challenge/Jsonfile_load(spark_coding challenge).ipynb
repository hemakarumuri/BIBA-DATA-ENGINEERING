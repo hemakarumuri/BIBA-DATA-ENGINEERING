{
 "cells": [
  {
   "cell_type": "code",
   "execution_count": 3,
   "id": "f1918dd1",
   "metadata": {},
   "outputs": [
    {
     "name": "stdout",
     "output_type": "stream",
     "text": [
      "+--------------------+\n",
      "|employee            |\n",
      "+--------------------+\n",
      "|{true, sonoo, 56000}|\n",
      "+--------------------+\n",
      "\n",
      "root\n",
      " |-- employee: struct (nullable = true)\n",
      " |    |-- married: boolean (nullable = true)\n",
      " |    |-- name: string (nullable = true)\n",
      " |    |-- salary: long (nullable = true)\n",
      "\n"
     ]
    }
   ],
   "source": [
    "import findspark\n",
    "findspark.init()\n",
    "import pyspark\n",
    "from pyspark.sql import SparkSession\n",
    "spark=SparkSession.builder.master(\"local\").appName('JSON File')\\\n",
    "            .getOrCreate()\n",
    "df = spark.read.json(\"H:/Hexaware/python-data/data.json\",multiLine=True)\n",
    "df.show(truncate=0)\n",
    "df.printSchema()"
   ]
  },
  {
   "cell_type": "code",
   "execution_count": null,
   "id": "012322fb",
   "metadata": {},
   "outputs": [],
   "source": []
  }
 ],
 "metadata": {
  "kernelspec": {
   "display_name": "Python 3 (ipykernel)",
   "language": "python",
   "name": "python3"
  },
  "language_info": {
   "codemirror_mode": {
    "name": "ipython",
    "version": 3
   },
   "file_extension": ".py",
   "mimetype": "text/x-python",
   "name": "python",
   "nbconvert_exporter": "python",
   "pygments_lexer": "ipython3",
   "version": "3.7.0"
  }
 },
 "nbformat": 4,
 "nbformat_minor": 5
}

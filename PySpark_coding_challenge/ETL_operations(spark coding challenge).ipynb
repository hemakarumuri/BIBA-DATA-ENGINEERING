{
 "cells": [
  {
   "cell_type": "code",
   "execution_count": 5,
   "id": "3b197a03",
   "metadata": {},
   "outputs": [
    {
     "name": "stdout",
     "output_type": "stream",
     "text": [
      "+------+-----+\n",
      "|  Name| Dept|\n",
      "+------+-----+\n",
      "|  Hema|  CSE|\n",
      "| Paani|  CSE|\n",
      "|  Ravi|  EEE|\n",
      "|Chandu|  ECE|\n",
      "|  Hari|Civil|\n",
      "+------+-----+\n",
      "\n",
      "+----------+-----+\n",
      "|      Name| Dept|\n",
      "+----------+-----+\n",
      "|  Hema CSE|  CSE|\n",
      "| Paani CSE|  CSE|\n",
      "|  Ravi EEE|  EEE|\n",
      "|Chandu ECE|  ECE|\n",
      "|Hari Civil|Civil|\n",
      "+----------+-----+\n",
      "\n",
      "+----------+-----+---+\n",
      "|      Name| Dept|age|\n",
      "+----------+-----+---+\n",
      "|  Hema CSE|  CSE| 50|\n",
      "| Paani CSE|  CSE| 50|\n",
      "|  Ravi EEE|  EEE| 29|\n",
      "|Chandu ECE|  ECE| 31|\n",
      "|Hari Civil|Civil| 44|\n",
      "+----------+-----+---+\n",
      "\n",
      "+----------+-----+---+\n",
      "|      Name| Dept|age|\n",
      "+----------+-----+---+\n",
      "|  Hema CSE|  CSE| 50|\n",
      "| Paani CSE|  CSE| 50|\n",
      "|Chandu ECE|  ECE| 31|\n",
      "|Hari Civil|Civil| 44|\n",
      "+----------+-----+---+\n",
      "\n",
      "+----------+-----+---+\n",
      "|      Name| Dept|age|\n",
      "+----------+-----+---+\n",
      "|Chandu ECE|  ECE| 31|\n",
      "|Hari Civil|Civil| 44|\n",
      "|  Hema CSE|  CSE| 50|\n",
      "| Paani CSE|  CSE| 50|\n",
      "+----------+-----+---+\n",
      "\n"
     ]
    }
   ],
   "source": [
    "#ETL operations\n",
    "import findspark\n",
    "findspark.init()\n",
    "import pyspark\n",
    "from pyspark.sql import SparkSession\n",
    "from pyspark.sql.functions import col, concat, lit, floor, rand\n",
    "# Initialize a Spark session\n",
    "spark = SparkSession.builder.appName(\"ComplexETL\").getOrCreate()\n",
    "# Define the external source and target paths\n",
    "source_path = \"H:/Hexaware/python-data/studentdata.csv\" # Update with your actual source file path\n",
    "target_path = \"H:/Hexaware/python-data/data1.csv\" # Update with your desired target file path\n",
    "# Extract: Read data from an external CSV file\n",
    "df = spark.read.csv(source_path, header=True,schema = 'Name String,Dept String')\n",
    "df.show()\n",
    "# Transformation 1: Concatenate First and Last Names\n",
    "df = df.withColumn(\"Name\", concat(col(\"Name\"), lit(\" \"), col(\"Dept\")))\n",
    "df.show()\n",
    "#adding age column\n",
    "df = df.withColumn(\"age\", floor(lit(20) + rand() * lit(31)))\n",
    "df.show()\n",
    "# Transformation 3: Filter by Age (age >= 30)\n",
    "df = df.filter(col(\"age\") >= 30)\n",
    "df.show()\n",
    "# Transformation 5: Sort by Age\n",
    "df = df.orderBy(\"age\")\n",
    "df.show()\n"
   ]
  },
  {
   "cell_type": "code",
   "execution_count": null,
   "id": "590dfce9",
   "metadata": {},
   "outputs": [],
   "source": []
  }
 ],
 "metadata": {
  "kernelspec": {
   "display_name": "Python 3 (ipykernel)",
   "language": "python",
   "name": "python3"
  },
  "language_info": {
   "codemirror_mode": {
    "name": "ipython",
    "version": 3
   },
   "file_extension": ".py",
   "mimetype": "text/x-python",
   "name": "python",
   "nbconvert_exporter": "python",
   "pygments_lexer": "ipython3",
   "version": "3.7.0"
  }
 },
 "nbformat": 4,
 "nbformat_minor": 5
}

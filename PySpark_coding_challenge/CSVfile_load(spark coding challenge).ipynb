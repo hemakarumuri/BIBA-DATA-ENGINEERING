{
 "cells": [
  {
   "cell_type": "code",
   "execution_count": 1,
   "id": "3071b655",
   "metadata": {},
   "outputs": [
    {
     "name": "stdout",
     "output_type": "stream",
     "text": [
      "+------------------+------+\n",
      "|year of experiance|salary|\n",
      "+------------------+------+\n",
      "|               1.1| 40000|\n",
      "|               1.2| 44000|\n",
      "|               2.0| 50000|\n",
      "|               3.0| 60000|\n",
      "|               4.0| 75000|\n",
      "|               5.0| 80000|\n",
      "+------------------+------+\n",
      "\n",
      "root\n",
      " |-- year of experiance: double (nullable = true)\n",
      " |-- salary: integer (nullable = true)\n",
      "\n"
     ]
    }
   ],
   "source": [
    "import findspark\n",
    "findspark.init()\n",
    "import pyspark\n",
    "from pyspark.sql import SparkSession\n",
    "spark=SparkSession\\\n",
    "       .builder\\\n",
    "       .appName(\"Python spark sql basic examples\")\\\n",
    "        .config(\"spark.come.config.option\",\"some-values\")\\\n",
    "        .getOrCreate()\n",
    "df=spark.read.format('com.databricks.spark.csv').\\\n",
    "              options(header='true',\\\n",
    "                     inferschema='true').\\\n",
    "            load(\"H:/Hexaware/python-data/salarydata.csv\",header=True)\n",
    "df.show()\n",
    "df.printSchema()"
   ]
  },
  {
   "cell_type": "code",
   "execution_count": null,
   "id": "fb86e327",
   "metadata": {},
   "outputs": [],
   "source": []
  }
 ],
 "metadata": {
  "kernelspec": {
   "display_name": "Python 3 (ipykernel)",
   "language": "python",
   "name": "python3"
  },
  "language_info": {
   "codemirror_mode": {
    "name": "ipython",
    "version": 3
   },
   "file_extension": ".py",
   "mimetype": "text/x-python",
   "name": "python",
   "nbconvert_exporter": "python",
   "pygments_lexer": "ipython3",
   "version": "3.7.0"
  }
 },
 "nbformat": 4,
 "nbformat_minor": 5
}

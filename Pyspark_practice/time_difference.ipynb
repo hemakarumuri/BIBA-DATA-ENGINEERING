{
 "cells": [
  {
   "cell_type": "code",
   "execution_count": 1,
   "id": "30552764",
   "metadata": {},
   "outputs": [
    {
     "name": "stdout",
     "output_type": "stream",
     "text": [
      "+--------------------+--------------------+-------------+-------------+-----------+--------------+\n",
      "|     input_timestamp|   current_timestamp|DiffInSeconds|DiffInMinutes|DiffInHours|    DiffInDays|\n",
      "+--------------------+--------------------+-------------+-------------+-----------+--------------+\n",
      "|2019-07-01 12:01:...|2023-12-27 12:44:...|    141698563|    2361643.0|    39361.0|2.125478445E10|\n",
      "|2019-06-24 12:01:...|2023-12-27 12:44:...|    142303363|    2371723.0|    39529.0|2.134550445E10|\n",
      "|2019-11-16 16:44:...|2023-12-27 12:44:...|    129758347|    2162639.0|    36044.0|1.946375205E10|\n",
      "|2019-11-16 16:50:...|2023-12-27 12:44:...|    129757983|    2162633.0|    36044.0|1.946369745E10|\n",
      "+--------------------+--------------------+-------------+-------------+-----------+--------------+\n",
      "\n"
     ]
    }
   ],
   "source": [
    "import findspark\n",
    "findspark.init()\n",
    "import pyspark\n",
    "from pyspark.sql import SparkSession\n",
    "from pyspark.sql.functions import col, round\n",
    "from pyspark.sql.functions import to_timestamp, current_timestamp\n",
    "from pyspark.sql.types import StructType, StructField, StringType, IntegerType, LongType\n",
    "\n",
    "spark = SparkSession.builder.appName('SparkByExamples.com').getOrCreate()\n",
    "\n",
    "schema = StructType([\n",
    "            StructField(\"input_timestamp\", StringType(), True)])\n",
    "\n",
    "dates = ['2019-07-01 12:01:19.111',\n",
    "    '2019-06-24 12:01:19.222',\n",
    "    '2019-11-16 16:44:55.406',\n",
    "    '2019-11-16 16:50:59.406']\n",
    "\n",
    "df = spark.createDataFrame(list( zip(dates)), schema=schema)\n",
    "\n",
    "df.withColumn('input_timestamp',to_timestamp(col('input_timestamp')))\\\n",
    "  .withColumn('current_timestamp', current_timestamp().alias('current_timestamp'))\\\n",
    "  .withColumn('DiffInSeconds',current_timestamp().cast(LongType()) - col('input_timestamp').cast(LongType()))\\\n",
    "  .withColumn('DiffInMinutes',round(col('DiffInSeconds')/60))\\\n",
    "  .withColumn('DiffInHours',round(col('DiffInSeconds')/3600))\\\n",
    "  .withColumn('DiffInDays',round(col('DiffInSeconds')/24*3600))\\\n",
    "  .show()"
   ]
  },
  {
   "cell_type": "code",
   "execution_count": null,
   "id": "479bcefa",
   "metadata": {},
   "outputs": [],
   "source": []
  }
 ],
 "metadata": {
  "kernelspec": {
   "display_name": "Python 3 (ipykernel)",
   "language": "python",
   "name": "python3"
  },
  "language_info": {
   "codemirror_mode": {
    "name": "ipython",
    "version": 3
   },
   "file_extension": ".py",
   "mimetype": "text/x-python",
   "name": "python",
   "nbconvert_exporter": "python",
   "pygments_lexer": "ipython3",
   "version": "3.7.0"
  }
 },
 "nbformat": 4,
 "nbformat_minor": 5
}

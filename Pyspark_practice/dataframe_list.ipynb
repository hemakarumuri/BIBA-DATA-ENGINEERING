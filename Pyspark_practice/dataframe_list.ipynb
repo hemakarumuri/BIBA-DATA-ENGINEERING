{
 "cells": [
  {
   "cell_type": "code",
   "execution_count": 3,
   "id": "f7cf3d2c",
   "metadata": {},
   "outputs": [
    {
     "name": "stdout",
     "output_type": "stream",
     "text": [
      "+---------+---------+----------------+\n",
      "|Subject 1|Subject 2|       Subject 3|\n",
      "+---------+---------+----------------+\n",
      "|     java|     dbms|          python|\n",
      "|     OOPS|      SQL|Machine Learning|\n",
      "+---------+---------+----------------+\n",
      "\n"
     ]
    }
   ],
   "source": [
    "import findspark\n",
    "findspark.init()\n",
    "# importing module \n",
    "import pyspark \n",
    "\n",
    "# importing sparksession from \n",
    "# pyspark.sql module \n",
    "from pyspark.sql import SparkSession \n",
    "\n",
    "# creating sparksession and giving \n",
    "# an app name \n",
    "spark = SparkSession.builder.appName('sparkdf').getOrCreate() \n",
    "\n",
    "# list of college data with two lists \n",
    "data = [[\"java\", \"dbms\", \"python\"], \n",
    "\t\t[\"OOPS\", \"SQL\", \"Machine Learning\"]] \n",
    "\n",
    "# giving column names of dataframe \n",
    "columns = [\"Subject 1\", \"Subject 2\", \"Subject 3\"] \n",
    "\n",
    "# creating a dataframe \n",
    "dataframe = spark.createDataFrame(data, columns) \n",
    "\n",
    "# show data frame \n",
    "dataframe.show() \n"
   ]
  },
  {
   "cell_type": "code",
   "execution_count": null,
   "id": "4478f17b",
   "metadata": {},
   "outputs": [],
   "source": []
  }
 ],
 "metadata": {
  "kernelspec": {
   "display_name": "Python 3 (ipykernel)",
   "language": "python",
   "name": "python3"
  },
  "language_info": {
   "codemirror_mode": {
    "name": "ipython",
    "version": 3
   },
   "file_extension": ".py",
   "mimetype": "text/x-python",
   "name": "python",
   "nbconvert_exporter": "python",
   "pygments_lexer": "ipython3",
   "version": "3.7.0"
  }
 },
 "nbformat": 4,
 "nbformat_minor": 5
}

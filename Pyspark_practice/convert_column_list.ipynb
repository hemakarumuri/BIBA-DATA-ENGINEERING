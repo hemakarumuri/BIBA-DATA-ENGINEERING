{
 "cells": [
  {
   "cell_type": "code",
   "execution_count": 1,
   "id": "ecbc68a6",
   "metadata": {},
   "outputs": [
    {
     "name": "stdout",
     "output_type": "stream",
     "text": [
      "+---------+--------+-------+-----+\n",
      "|firstname|lastname|country|state|\n",
      "+---------+--------+-------+-----+\n",
      "|    James|   Smith|    USA|   CA|\n",
      "|  Michael|    Rose|    USA|   NY|\n",
      "|   Robert|Williams|    USA|   CA|\n",
      "|    Maria|   Jones|    USA|   FL|\n",
      "+---------+--------+-------+-----+\n",
      "\n",
      "[Row(firstname='James', lastname='Smith', country='USA', state='CA'), Row(firstname='Michael', lastname='Rose', country='USA', state='NY'), Row(firstname='Robert', lastname='Williams', country='USA', state='CA'), Row(firstname='Maria', lastname='Jones', country='USA', state='FL')]\n",
      "['CA', 'NY', 'CA', 'FL']\n",
      "['CA', 'NY', 'FL']\n",
      "['CA', 'NY', 'CA', 'FL']\n",
      "[Row(state='CA'), Row(state='NY'), Row(state='CA'), Row(state='FL')]\n",
      "['CA', 'NY', 'CA', 'FL']\n",
      "['CA', 'NY', 'CA', 'FL']\n",
      "['CA', 'NY', 'CA', 'FL']\n",
      "['James', 'Michael', 'Robert', 'Maria']\n"
     ]
    }
   ],
   "source": [
    "import findspark\n",
    "findspark.init()\n",
    "import pyspark\n",
    "from pyspark.sql import SparkSession\n",
    "spark = SparkSession.builder.master(\"local[1]\") \\\n",
    "                    .appName('SparkByExamples.com') \\\n",
    "                    .getOrCreate()\n",
    "\n",
    "data = [(\"James\",\"Smith\",\"USA\",\"CA\"),(\"Michael\",\"Rose\",\"USA\",\"NY\"), \\\n",
    "    (\"Robert\",\"Williams\",\"USA\",\"CA\"),(\"Maria\",\"Jones\",\"USA\",\"FL\") \\\n",
    "  ]\n",
    "columns=[\"firstname\",\"lastname\",\"country\",\"state\"]\n",
    "df=spark.createDataFrame(data=data,schema=columns)\n",
    "df.show()\n",
    "print(df.collect())\n",
    "\n",
    "states1=df.rdd.map(lambda x: x[3]).collect()\n",
    "print(states1)\n",
    "#['CA', 'NY', 'CA', 'FL']\n",
    "from collections import OrderedDict \n",
    "res = list(OrderedDict.fromkeys(states1)) \n",
    "print(res)\n",
    "#['CA', 'NY', 'FL']\n",
    "\n",
    "\n",
    "#Example 2\n",
    "states2=df.rdd.map(lambda x: x.state).collect()\n",
    "print(states2)\n",
    "#['CA', 'NY', 'CA', 'FL']\n",
    "\n",
    "states3=df.select(df.state).collect()\n",
    "print(states3)\n",
    "#[Row(state='CA'), Row(state='NY'), Row(state='CA'), Row(state='FL')]\n",
    "\n",
    "states4=df.select(df.state).rdd.flatMap(lambda x: x).collect()\n",
    "print(states4)\n",
    "#['CA', 'NY', 'CA', 'FL']\n",
    "\n",
    "states5=df.select(df.state).toPandas()['state']\n",
    "states6=list(states5)\n",
    "print(states6)\n",
    "#['CA', 'NY', 'CA', 'FL']\n",
    "\n",
    "pandDF=df.select(df.state,df.firstname).toPandas()\n",
    "print(list(pandDF['state']))\n",
    "print(list(pandDF['firstname']))"
   ]
  },
  {
   "cell_type": "code",
   "execution_count": null,
   "id": "674d7aa5",
   "metadata": {},
   "outputs": [],
   "source": []
  }
 ],
 "metadata": {
  "kernelspec": {
   "display_name": "Python 3 (ipykernel)",
   "language": "python",
   "name": "python3"
  },
  "language_info": {
   "codemirror_mode": {
    "name": "ipython",
    "version": 3
   },
   "file_extension": ".py",
   "mimetype": "text/x-python",
   "name": "python",
   "nbconvert_exporter": "python",
   "pygments_lexer": "ipython3",
   "version": "3.7.0"
  }
 },
 "nbformat": 4,
 "nbformat_minor": 5
}

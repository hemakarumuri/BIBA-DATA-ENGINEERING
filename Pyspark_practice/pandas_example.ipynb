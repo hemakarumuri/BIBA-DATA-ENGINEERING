{
 "cells": [
  {
   "cell_type": "code",
   "execution_count": 1,
   "id": "87970d38",
   "metadata": {},
   "outputs": [
    {
     "name": "stdout",
     "output_type": "stream",
     "text": [
      "  First Name Middle Name Last Name  Age Gender  Salary\n",
      "0      James                 Smith   30      M   60000\n",
      "1    Michael        Rose             50      M   70000\n",
      "2     Robert              Williams   42         400000\n",
      "3      Maria        Anne     Jones   38      F  500000\n",
      "4        Jen        Mary     Brown   45   None       0\n",
      "First Name     5\n",
      "Middle Name    5\n",
      "Last Name      5\n",
      "Age            5\n",
      "Gender         4\n",
      "Salary         5\n",
      "dtype: int64\n",
      "First Name       Robert\n",
      "Middle Name        Rose\n",
      "Last Name      Williams\n",
      "Age                  50\n",
      "Salary           500000\n",
      "dtype: object\n",
      "Age           41.0\n",
      "Salary    206000.0\n",
      "dtype: float64\n"
     ]
    }
   ],
   "source": [
    "import findspark\n",
    "findspark.init()\n",
    "import pandas as pd    \n",
    "data = [[\"James\",\"\",\"Smith\",30,\"M\",60000], \n",
    "        [\"Michael\",\"Rose\",\"\",50,\"M\",70000], \n",
    "        [\"Robert\",\"\",\"Williams\",42,\"\",400000], \n",
    "        [\"Maria\",\"Anne\",\"Jones\",38,\"F\",500000], \n",
    "        [\"Jen\",\"Mary\",\"Brown\",45,None,0]] \n",
    "columns = ['First Name', 'Middle Name','Last Name','Age','Gender','Salary']\n",
    "\n",
    "# Create the pandas DataFrame \n",
    "pandasDF = pd.DataFrame(data=data, columns=columns) \n",
    "  \n",
    "# print dataframe. \n",
    "print(pandasDF)\n",
    "\n",
    "#Outputs below data on console\n",
    "\n",
    "pdCount=pandasDF.count()\n",
    "print(pdCount)\n",
    "\n",
    "print(pandasDF.max())\n",
    "print(pandasDF.mean())"
   ]
  },
  {
   "cell_type": "code",
   "execution_count": null,
   "id": "cceec4c7",
   "metadata": {},
   "outputs": [],
   "source": []
  }
 ],
 "metadata": {
  "kernelspec": {
   "display_name": "Python 3 (ipykernel)",
   "language": "python",
   "name": "python3"
  },
  "language_info": {
   "codemirror_mode": {
    "name": "ipython",
    "version": 3
   },
   "file_extension": ".py",
   "mimetype": "text/x-python",
   "name": "python",
   "nbconvert_exporter": "python",
   "pygments_lexer": "ipython3",
   "version": "3.7.0"
  }
 },
 "nbformat": 4,
 "nbformat_minor": 5
}
